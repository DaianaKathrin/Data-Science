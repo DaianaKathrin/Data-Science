{
 "cells": [
  {
   "cell_type": "code",
   "execution_count": 78,
   "metadata": {},
   "outputs": [],
   "source": [
    "from math import sqrt"
   ]
  },
  {
   "cell_type": "code",
   "execution_count": 76,
   "metadata": {},
   "outputs": [],
   "source": [
    "def carregaMovieLens(path='ml-100k'):\n",
    "    filmes = {}\n",
    "    for linha in open(path + '/u.item'):\n",
    "        (id, titulo) = linha.split('|')[0:2]\n",
    "        filmes[id] = titulo\n",
    "    # print(filmes)\n",
    "\n",
    "    base = {}\n",
    "    for linha in open(path + '/u.data'):\n",
    "        (usuario, idfilme, nota, tempo) = linha.split('\\t')\n",
    "        base.setdefault(usuario, {})\n",
    "        base[usuario][filmes[idfilme]] = float(nota)\n",
    "    return base  "
   ]
  },
  {
   "cell_type": "code",
   "execution_count": 79,
   "metadata": {},
   "outputs": [],
   "source": [
    "def euclidiana(base, usuario1, usuario2):\n",
    "    si = {}\n",
    "    for item in base[usuario1]:\n",
    "       if item in base[usuario2]: si[item] = 1\n",
    "\n",
    "    if len(si) == 0: return 0\n",
    "\n",
    "    soma = sum([pow(base[usuario1][item] - base[usuario2][item], 2)\n",
    "                for item in base[usuario1] if item in base[usuario2]])\n",
    "    return 1/(1 + sqrt(soma))"
   ]
  },
  {
   "cell_type": "code",
   "execution_count": 80,
   "metadata": {},
   "outputs": [],
   "source": [
    "def getSimilares(base, usuario):\n",
    "    similaridade = [(euclidiana(base, usuario, outro), outro)\n",
    "                    for outro in base if outro != usuario]\n",
    "    similaridade.sort()\n",
    "    similaridade.reverse()\n",
    "    return similaridade[0:30]"
   ]
  },
  {
   "cell_type": "code",
   "execution_count": 81,
   "metadata": {},
   "outputs": [],
   "source": [
    "def getRecomendacoesUsuario(base, usuario):\n",
    "    totais={}\n",
    "    somaSimilaridade={}\n",
    "    for outro in base:\n",
    "        if outro == usuario: continue\n",
    "        similaridade = euclidiana(base, usuario, outro)\n",
    "\n",
    "        if similaridade <= 0: continue\n",
    "\n",
    "        for item in base[outro]:\n",
    "            if item not in base[usuario]:\n",
    "                totais.setdefault(item, 0)\n",
    "                totais[item] += base[outro][item] * similaridade\n",
    "                somaSimilaridade.setdefault(item, 0)\n",
    "                somaSimilaridade[item] += similaridade\n",
    "    rankings=[(total / somaSimilaridade[item], item) for item, total in totais.items()]\n",
    "    rankings.sort()\n",
    "    rankings.reverse()\n",
    "    return rankings[0:30]"
   ]
  },
  {
   "cell_type": "code",
   "execution_count": 82,
   "metadata": {},
   "outputs": [],
   "source": [
    "def calculaItensSimilares(base):\n",
    "    result = {}\n",
    "    for item in base:\n",
    "        notas = getSimilares(base, item)\n",
    "        result[item] = notas\n",
    "    return result"
   ]
  },
  {
   "cell_type": "code",
   "execution_count": 83,
   "metadata": {},
   "outputs": [],
   "source": [
    "def getRecomendacoesItens(baseUsuario, similaridadeItens, usuario):\n",
    "    notasUsuario = baseUsuario[usuario]\n",
    "    notas={}\n",
    "    totalSimilaridade={}\n",
    "    for (item, nota) in notasUsuario.items():\n",
    "        for (similaridade, item2) in similaridadeItens[item]:\n",
    "            if item2 in notasUsuario: continue\n",
    "            notas.setdefault(item2, 0)\n",
    "            notas[item2] += similaridade * nota\n",
    "            totalSimilaridade.setdefault(item2,0)\n",
    "            totalSimilaridade[item2] += similaridade\n",
    "    rankings=[(score/totalSimilaridade[item], item) for item, score in notas.items()]\n",
    "    rankings.sort()\n",
    "    rankings.reverse()\n",
    "    return rankings"
   ]
  },
  {
   "cell_type": "code",
   "execution_count": 92,
   "metadata": {},
   "outputs": [],
   "source": [
    "def indica(base, pessoa):\n",
    "    lista = getRecomendacoesUsuario(base,pessoa)\n",
    "    print(\"Olá, %s!\" % (pessoa))\n",
    "    if len(lista) == 0: \n",
    "        print(\"Não temos itens para te recomendar.\")\n",
    "    else:\n",
    "        print(\"Experimente assistir %s, você tem %.1f por cento de chances de gostar\" % (lista[0][1], float(lista[0][0])*100/5))\n",
    "\n",
    "    "
   ]
  },
  {
   "cell_type": "code",
   "execution_count": 85,
   "metadata": {},
   "outputs": [],
   "source": [
    "BaseML = carregaMovieLens()"
   ]
  },
  {
   "cell_type": "code",
   "execution_count": 93,
   "metadata": {},
   "outputs": [
    {
     "name": "stdout",
     "output_type": "stream",
     "text": [
      "Olá, 196!\n",
      "Experimente assistir They Made Me a Criminal (1939), você tem 100.0 por cento de chances de gostar\n"
     ]
    }
   ],
   "source": [
    "indica(BaseML, '196')"
   ]
  }
 ],
 "metadata": {
  "kernelspec": {
   "display_name": "Python 3",
   "language": "python",
   "name": "python3"
  },
  "language_info": {
   "codemirror_mode": {
    "name": "ipython",
    "version": 3
   },
   "file_extension": ".py",
   "mimetype": "text/x-python",
   "name": "python",
   "nbconvert_exporter": "python",
   "pygments_lexer": "ipython3",
   "version": "3.8.5"
  }
 },
 "nbformat": 4,
 "nbformat_minor": 4
}
