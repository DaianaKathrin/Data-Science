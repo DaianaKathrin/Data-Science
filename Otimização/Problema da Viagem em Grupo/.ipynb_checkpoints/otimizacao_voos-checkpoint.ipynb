{
 "cells": [
  {
   "cell_type": "markdown",
   "metadata": {},
   "source": [
    "# Import bibliotecas"
   ]
  },
  {
   "cell_type": "code",
   "execution_count": 3,
   "metadata": {},
   "outputs": [],
   "source": [
    "import time\n",
    "import random\n",
    "import math"
   ]
  },
  {
   "cell_type": "markdown",
   "metadata": {},
   "source": [
    "# Leitura de passagens fictícias"
   ]
  },
  {
   "cell_type": "code",
   "execution_count": 4,
   "metadata": {},
   "outputs": [
    {
     "name": "stdout",
     "output_type": "stream",
     "text": [
      "GRU,GYN,6:19,8:13,239\n",
      "\n",
      "GYN,GRU,6:11,8:31,249\n",
      "\n",
      "GRU,GYN,8:04,10:59,136\n",
      "\n",
      "GYN,GRU,7:39,10:24,219\n",
      "\n",
      "GRU,GYN,9:31,11:43,210\n",
      "\n",
      "GYN,GRU,9:15,12:03,99\n",
      "\n",
      "GRU,GYN,11:07,13:24,171\n",
      "\n",
      "GYN,GRU,11:08,13:07,175\n",
      "\n",
      "GRU,GYN,12:31,14:02,234\n",
      "\n",
      "GYN,GRU,12:18,14:56,172\n",
      "\n",
      "GRU,GYN,14:05,15:47,226\n",
      "\n",
      "GYN,GRU,13:37,15:08,250\n",
      "\n",
      "GRU,GYN,15:07,17:21,129\n",
      "\n",
      "GYN,GRU,15:03,16:42,135\n",
      "\n",
      "GRU,GYN,16:35,18:56,144\n",
      "\n",
      "GYN,GRU,16:51,19:09,147\n",
      "\n",
      "GRU,GYN,18:25,20:34,205\n",
      "\n",
      "GYN,GRU,18:12,20:17,242\n",
      "\n",
      "GRU,GYN,20:05,21:44,172\n",
      "\n",
      "GYN,GRU,20:05,22:06,261\n",
      "\n",
      "GRU,CNF,6:03,8:43,219\n",
      "\n",
      "CNF,GRU,6:05,8:32,174\n",
      "\n",
      "GRU,CNF,7:50,10:08,164\n",
      "\n",
      "CNF,GRU,8:25,10:34,157\n",
      "\n",
      "GRU,CNF,9:11,10:42,172\n",
      "\n",
      "CNF,GRU,9:42,11:32,169\n",
      "\n",
      "GRU,CNF,10:33,13:11,132\n",
      "\n",
      "CNF,GRU,11:01,12:39,260\n",
      "\n",
      "GRU,CNF,12:08,14:47,231\n",
      "\n",
      "CNF,GRU,12:44,14:17,134\n",
      "\n",
      "GRU,CNF,14:19,17:09,190\n",
      "\n",
      "CNF,GRU,14:22,16:32,126\n",
      "\n",
      "GRU,CNF,15:04,17:23,189\n",
      "\n",
      "CNF,GRU,15:58,18:40,173\n",
      "\n",
      "GRU,CNF,17:06,20:00,95\n",
      "\n",
      "CNF,GRU,16:43,19:00,246\n",
      "\n",
      "GRU,CNF,18:33,20:22,143\n",
      "\n",
      "CNF,GRU,18:48,21:45,246\n",
      "\n",
      "GRU,CNF,19:32,21:25,160\n",
      "\n",
      "CNF,GRU,19:50,22:24,269\n",
      "\n",
      "GRU,FLN,6:33,9:14,172\n",
      "\n",
      "FLN,GRU,6:25,9:30,335\n",
      "\n",
      "GRU,FLN,8:23,11:07,143\n",
      "\n",
      "FLN,GRU,7:34,9:40,324\n",
      "\n",
      "GRU,FLN,9:25,12:46,295\n",
      "\n",
      "FLN,GRU,9:15,12:29,225\n",
      "\n",
      "GRU,FLN,11:08,14:38,262\n",
      "\n",
      "FLN,GRU,11:28,14:40,248\n",
      "\n",
      "GRU,FLN,12:37,15:05,170\n",
      "\n",
      "FLN,GRU,12:05,15:30,330\n",
      "\n",
      "GRU,FLN,14:08,16:09,232\n",
      "\n",
      "FLN,GRU,14:01,17:24,338\n",
      "\n",
      "GRU,FLN,15:23,18:49,150\n",
      "\n",
      "FLN,GRU,15:34,18:11,326\n",
      "\n",
      "GRU,FLN,16:50,19:26,304\n",
      "\n",
      "FLN,GRU,17:07,20:04,291\n",
      "\n",
      "GRU,FLN,18:07,21:30,355\n",
      "\n",
      "FLN,GRU,18:23,21:35,134\n",
      "\n",
      "GRU,FLN,20:27,23:42,169\n",
      "\n",
      "FLN,GRU,19:53,22:21,173\n",
      "\n",
      "GRU,CWB,6:39,8:09,86\n",
      "\n",
      "CWB,GRU,6:17,8:26,89\n",
      "\n",
      "GRU,CWB,8:23,10:28,149\n",
      "\n",
      "CWB,GRU,8:04,10:11,95\n",
      "\n",
      "GRU,CWB,9:58,11:18,130\n",
      "\n",
      "CWB,GRU,9:45,11:50,172\n",
      "\n",
      "GRU,CWB,10:33,12:03,74\n",
      "\n",
      "CWB,GRU,11:16,13:29,83\n",
      "\n",
      "GRU,CWB,12:08,14:05,142\n",
      "\n",
      "CWB,GRU,12:34,15:02,109\n",
      "\n",
      "GRU,CWB,13:39,15:30,74\n",
      "\n",
      "CWB,GRU,13:40,15:37,138\n",
      "\n",
      "GRU,CWB,15:25,16:58,62\n",
      "\n",
      "CWB,GRU,15:27,17:18,151\n",
      "\n",
      "GRU,CWB,17:03,18:03,103\n",
      "\n",
      "CWB,GRU,17:11,18:30,108\n",
      "\n",
      "GRU,CWB,18:24,20:49,124\n",
      "\n",
      "CWB,GRU,18:34,19:36,136\n",
      "\n",
      "GRU,CWB,19:58,21:23,142\n",
      "\n",
      "CWB,GRU,20:17,22:22,102\n",
      "\n",
      "GRU,GIG,6:09,9:49,414\n",
      "\n",
      "GIG,GRU,6:12,10:22,230\n",
      "\n",
      "GRU,GIG,7:57,11:15,347\n",
      "\n",
      "GIG,GRU,7:53,11:37,433\n",
      "\n",
      "GRU,GIG,9:49,13:51,229\n",
      "\n",
      "GIG,GRU,9:08,12:12,364\n",
      "\n",
      "GRU,GIG,10:51,14:16,256\n",
      "\n",
      "GIG,GRU,10:30,14:57,290\n",
      "\n",
      "GRU,GIG,12:20,16:34,500\n",
      "\n",
      "GIG,GRU,12:19,15:25,342\n",
      "\n",
      "GRU,GIG,14:20,17:32,332\n",
      "\n",
      "GIG,GRU,13:54,18:02,294\n",
      "\n",
      "GRU,GIG,15:49,20:10,497\n",
      "\n",
      "GIG,GRU,15:44,18:55,382\n",
      "\n",
      "GRU,GIG,17:14,20:59,277\n",
      "\n",
      "GIG,GRU,16:52,20:48,448\n",
      "\n",
      "GRU,GIG,18:44,22:42,351\n",
      "\n",
      "GIG,GRU,18:26,21:29,464\n",
      "\n",
      "GRU,GIG,19:57,23:15,512\n",
      "\n",
      "GIG,GRU,20:07,23:27,473\n",
      "\n",
      "GRU,POA,6:58,9:01,238\n",
      "\n",
      "POA,GRU,6:08,8:06,224\n",
      "\n",
      "GRU,POA,8:19,11:16,122\n",
      "\n",
      "POA,GRU,8:27,10:45,139\n",
      "\n",
      "GRU,POA,9:58,12:56,249\n",
      "\n",
      "POA,GRU,9:15,12:14,247\n",
      "\n",
      "GRU,POA,10:32,13:16,139\n",
      "\n",
      "POA,GRU,10:53,13:36,189\n",
      "\n",
      "GRU,POA,12:01,13:41,267\n",
      "\n",
      "POA,GRU,12:08,14:59,149\n",
      "\n",
      "GRU,POA,13:37,15:33,142\n",
      "\n",
      "POA,GRU,13:40,15:38,137\n",
      "\n",
      "GRU,POA,15:50,18:45,243\n",
      "\n",
      "POA,GRU,15:23,17:25,232\n",
      "\n",
      "GRU,POA,16:33,18:15,253\n",
      "\n",
      "POA,GRU,17:08,19:08,262\n",
      "\n",
      "GRU,POA,18:17,21:04,259\n",
      "\n",
      "POA,GRU,18:35,20:28,204\n",
      "\n",
      "GRU,POA,19:46,21:45,214\n",
      "\n",
      "POA,GRU,20:30,23:11,114\n",
      "\n"
     ]
    }
   ],
   "source": [
    "voos = {}\n",
    "for linha in open('voos.txt'):\n",
    "    print(linha)\n",
    "    _origem, _destino, _saida, _chegada, _preco = linha.split(',')\n",
    "    voos.setdefault((_origem, _destino), [])\n",
    "    voos[(_origem, _destino)].append((_saida, _chegada, int(_preco)))"
   ]
  },
  {
   "cell_type": "markdown",
   "metadata": {},
   "source": [
    "# Definindo pessoas, suas origens e o destino"
   ]
  },
  {
   "cell_type": "code",
   "execution_count": 5,
   "metadata": {},
   "outputs": [],
   "source": [
    "pessoas = [('Amanda', 'CWB'),\n",
    "           ('Pedro', 'GIG'),\n",
    "           ('Marcos', 'POA'),\n",
    "           ('Priscila', 'FLN'),\n",
    "           ('Jessica', 'CNF'),\n",
    "           ('Paulo', 'GYN')]\n",
    "\n",
    "destino = 'GRU'"
   ]
  },
  {
   "cell_type": "markdown",
   "metadata": {},
   "source": [
    "# Criando uma agenda aleatóriamente"
   ]
  },
  {
   "cell_type": "code",
   "execution_count": 6,
   "metadata": {},
   "outputs": [
    {
     "name": "stdout",
     "output_type": "stream",
     "text": [
      "    Amanda       CWB  8:04-10:11 R$ 95 12:08-14:05 R$142\n",
      "     Pedro       GIG 10:30-14:57 R$290  9:49-13:51 R$229\n",
      "    Marcos       POA 17:08-19:08 R$262 10:32-13:16 R$139\n",
      "  Priscila       FLN 15:34-18:11 R$326 11:08-14:38 R$262\n",
      "   Jessica       CNF  9:42-11:32 R$169 12:08-14:47 R$231\n",
      "     Paulo       GYN 13:37-15:08 R$250 11:07-13:24 R$171\n"
     ]
    }
   ],
   "source": [
    "def imprimir_agenda(agenda):\n",
    "    id_voo = -1\n",
    "    for i in range(len(agenda) // 2):\n",
    "        nome = pessoas[i][0] \n",
    "        origem = pessoas[i][1]\n",
    "        id_voo += 1\n",
    "        ida = voos[(origem, destino)][agenda[id_voo]]\n",
    "        id_voo += 1\n",
    "        volta = voos[(destino, origem)][agenda[id_voo]]\n",
    "        print('%10s%10s %5s-%5s R$%3s %5s-%5s R$%3s' % (nome, origem, ida[0], ida[1], ida[2],\n",
    "                                                       volta[0], volta[1], volta[2]))\n",
    "agenda = [1,4, 3,2, 7,3, 6,3, 2,4, 5,3]\n",
    "imprimir_agenda(agenda)"
   ]
  },
  {
   "cell_type": "markdown",
   "metadata": {},
   "source": [
    "# Função calcula minutos de um horário"
   ]
  },
  {
   "cell_type": "code",
   "execution_count": 10,
   "metadata": {},
   "outputs": [
    {
     "name": "stdout",
     "output_type": "stream",
     "text": [
      "373\n",
      "1439\n",
      "0\n"
     ]
    }
   ],
   "source": [
    "def get_minutos(hora):\n",
    "    x = time.strptime(hora, '%H:%M')\n",
    "    minutos = x[3] * 60 + x[4]\n",
    "    return minutos\n",
    "\n",
    "print(get_minutos('6:13'))\n",
    "print(get_minutos('23:59'))\n",
    "print(get_minutos('00:00'))"
   ]
  },
  {
   "cell_type": "markdown",
   "metadata": {},
   "source": [
    "# Função calcula custo total das passagens escolhidas"
   ]
  },
  {
   "cell_type": "code",
   "execution_count": 11,
   "metadata": {},
   "outputs": [
    {
     "data": {
      "text/plain": [
       "4635"
      ]
     },
     "execution_count": 11,
     "metadata": {},
     "output_type": "execute_result"
    }
   ],
   "source": [
    "def funcao_custo(solucao):\n",
    "    preco_total = 0\n",
    "    ultima_chegada = 0\n",
    "    primeira_partida = 1439\n",
    "    \n",
    "    id_voo = -1\n",
    "    for i in range(len(solucao) // 2):\n",
    "        origem = pessoas[i][1]\n",
    "        id_voo += 1\n",
    "        ida = voos[(origem, destino)][solucao[id_voo]]\n",
    "        id_voo += 1\n",
    "        volta = voos[(destino, origem)][solucao[id_voo]]\n",
    "        \n",
    "        preco_total += ida[2]\n",
    "        preco_total += volta[2]\n",
    "        \n",
    "        if ultima_chegada < get_minutos(ida[1]):\n",
    "            ultima_chegada = get_minutos(ida[1])\n",
    "            \n",
    "        if primeira_partida > get_minutos(volta[0]):\n",
    "            primeira_partida = get_minutos(volta[0])\n",
    "            \n",
    "    total_espera = 0\n",
    "    id_voo = -1\n",
    "    for i in range(len(solucao) // 2):\n",
    "        origem = pessoas[i][1]\n",
    "        id_voo += 1\n",
    "        ida = voos[(origem, destino)][solucao[id_voo]]\n",
    "        id_voo += 1\n",
    "        volta = voos[(destino, origem)][solucao[id_voo]]\n",
    "        \n",
    "        total_espera += ultima_chegada - get_minutos(ida[1])\n",
    "        total_espera += get_minutos(volta[0]) - primeira_partida\n",
    "        \n",
    "    if ultima_chegada > primeira_partida:\n",
    "        preco_total += 50\n",
    "        \n",
    "    return preco_total + total_espera\n",
    "        \n",
    "funcao_custo(agenda) "
   ]
  },
  {
   "cell_type": "markdown",
   "metadata": {},
   "source": [
    "# Algoritmo: Pesquisa Randômica\n",
    "Solução de menor custo entre n escolhas aleatórias"
   ]
  },
  {
   "cell_type": "code",
   "execution_count": 7,
   "metadata": {},
   "outputs": [],
   "source": [
    "def pesquisa_randomica(dominio, funcao_custo):\n",
    "    melhor_custo = 999999999\n",
    "    for i in range(0, 10000):\n",
    "        solucao = [random.randint(dominio[i][0], dominio[i][1]) for i in range(len(dominio))]\n",
    "        custo = funcao_custo(solucao)\n",
    "        if custo < melhor_custo:\n",
    "            melhor_custo = custo\n",
    "            melhor_solucao = solucao\n",
    "    return melhor_solucao"
   ]
  },
  {
   "cell_type": "code",
   "execution_count": 13,
   "metadata": {},
   "outputs": [
    {
     "name": "stdout",
     "output_type": "stream",
     "text": [
      "3845\n",
      "    Amanda       CWB 15:27-17:18 R$151  6:39- 8:09 R$ 86\n",
      "     Pedro       GIG 13:54-18:02 R$294  7:57-11:15 R$347\n",
      "    Marcos       POA 15:23-17:25 R$232 13:37-15:33 R$142\n",
      "  Priscila       FLN 11:28-14:40 R$248  6:33- 9:14 R$172\n",
      "   Jessica       CNF 14:22-16:32 R$126  7:50-10:08 R$164\n",
      "     Paulo       GYN 13:37-15:08 R$250 11:07-13:24 R$171\n"
     ]
    }
   ],
   "source": [
    "dominio = [(0,9)] * (len(pessoas) * 2)\n",
    "solucao_randomica = pesquisa_randomica(dominio, funcao_custo)\n",
    "custo_randomica = funcao_custo(solucao_randomica)\n",
    "print(custo_randomica)\n",
    "imprimir_agenda(solucao_randomica)"
   ]
  },
  {
   "cell_type": "markdown",
   "metadata": {},
   "source": [
    "# Algoritmo: Subida da Encosta (Hill Climb)\n",
    "A partir de uma escolha aleatória, olha seus vizinhos até encontrar a solução ótima local"
   ]
  },
  {
   "cell_type": "code",
   "execution_count": 14,
   "metadata": {},
   "outputs": [],
   "source": [
    "def subida_encosta(dominio, funcao_custo):\n",
    "    solucao = [random.randint(dominio[i][0], dominio[i][1]) for i in range(len(dominio))]\n",
    "    while True:\n",
    "        vizinhos = []\n",
    "        \n",
    "        for i in range(len(dominio)):\n",
    "            if solucao[i] > dominio[i][0]:\n",
    "                if solucao[i] != dominio[i][1]:\n",
    "                    vizinhos.append(solucao[0:i] + [solucao[i] + 1] + solucao[i + 1:])\n",
    "            if solucao[i] < dominio[i][1]:\n",
    "                if solucao[i] != dominio[i][0]:\n",
    "                    vizinhos.append(solucao[0:i] + [solucao[i] - 1] + solucao[i + 1:])\n",
    "        atual = funcao_custo(solucao)\n",
    "        melhor = atual\n",
    "        for i in range(len(vizinhos)):\n",
    "            custo = funcao_custo(vizinhos[i])\n",
    "            if custo < melhor:\n",
    "                melhor = custo\n",
    "                solucao = vizinhos[i]\n",
    "                \n",
    "        if melhor == atual:\n",
    "            break\n",
    "    return solucao"
   ]
  },
  {
   "cell_type": "code",
   "execution_count": 17,
   "metadata": {},
   "outputs": [
    {
     "name": "stdout",
     "output_type": "stream",
     "text": [
      "2892\n",
      "    Amanda       CWB 13:40-15:37 R$138 13:39-15:30 R$ 74\n",
      "     Pedro       GIG 10:30-14:57 R$290 14:20-17:32 R$332\n",
      "    Marcos       POA 13:40-15:38 R$137 13:37-15:33 R$142\n",
      "  Priscila       FLN 11:28-14:40 R$248 15:23-18:49 R$150\n",
      "   Jessica       CNF  9:42-11:32 R$169 14:19-17:09 R$190\n",
      "     Paulo       GYN 12:18-14:56 R$172 15:07-17:21 R$129\n"
     ]
    }
   ],
   "source": [
    "solucao_subida_encosta = subida_encosta(dominio, funcao_custo)\n",
    "custo_subida_encosta = funcao_custo(solucao_subida_encosta)\n",
    "print(custo_subida_encosta)\n",
    "imprimir_agenda(solucao_subida_encosta)"
   ]
  },
  {
   "cell_type": "markdown",
   "metadata": {},
   "source": [
    "# Algoritmo: Têmpera Simulada (Simulated Annealing)\n",
    "Parecido com Hill Climb, mas na hora de considerar os vizinhos, pode escolher alguns que tenham resultado pior, assim tem mais possibilidade de encontrar a solução ótima."
   ]
  },
  {
   "cell_type": "code",
   "execution_count": 34,
   "metadata": {},
   "outputs": [],
   "source": [
    "def tempera_simulada(dominio, funcao_custo, temperatura = 10000.0, resfriamento = 0.95, passo = 1):\n",
    "    solucao = [random.randint(dominio[i][0], dominio[i][1]) for i in range(len(dominio))]\n",
    "    solucao_ofic = solucao\n",
    "    \n",
    "    while temperatura > 0.1:\n",
    "        i = random.randint(0, len(dominio) - 1) \n",
    "        direcao = random.randint(-passo, passo)\n",
    "        \n",
    "        solucao_temp = solucao[:]\n",
    "        solucao_temp[i] += direcao\n",
    "        if solucao_temp[i] < dominio[i][0]:\n",
    "            solucao_temp[i] = dominio[i][0]\n",
    "        elif solucao_temp[i] > dominio[i][1]:\n",
    "            solucao_temp[i] = dominio[i][1]\n",
    "            \n",
    "        custo_solucao = funcao_custo(solucao)\n",
    "        custo_solucao_temp = funcao_custo(solucao_temp)\n",
    "        probabilidade = pow(math.e, (-custo_solucao_temp - custo_solucao) / temperatura)\n",
    "        \n",
    "        if (custo_solucao_temp < custo_solucao or random.random() < probabilidade):\n",
    "            solucao = solucao_temp\n",
    "            \n",
    "            if (custo_solucao_temp < custo_solucao):\n",
    "                solucao_ofic = solucao\n",
    "        \n",
    "        temperatura = temperatura * resfriamento\n",
    "    return solucao_ofic"
   ]
  },
  {
   "cell_type": "code",
   "execution_count": 44,
   "metadata": {},
   "outputs": [
    {
     "name": "stdout",
     "output_type": "stream",
     "text": [
      "2868\n",
      "    Amanda       CWB 13:40-15:37 R$138 15:25-16:58 R$ 62\n",
      "     Pedro       GIG 10:30-14:57 R$290 14:20-17:32 R$332\n",
      "    Marcos       POA 13:40-15:38 R$137 15:50-18:45 R$243\n",
      "  Priscila       FLN 11:28-14:40 R$248 15:23-18:49 R$150\n",
      "   Jessica       CNF 12:44-14:17 R$134 14:19-17:09 R$190\n",
      "     Paulo       GYN  9:15-12:03 R$ 99 15:07-17:21 R$129\n"
     ]
    }
   ],
   "source": [
    "solucao_tempera_simulada = tempera_simulada(dominio, funcao_custo)\n",
    "custo_tempera_simulada = funcao_custo(solucao_tempera_simulada)\n",
    "print(custo_tempera_simulada)\n",
    "imprimir_agenda(solucao_tempera_simulada)"
   ]
  },
  {
   "cell_type": "markdown",
   "metadata": {},
   "source": [
    "# Algoritmo genético"
   ]
  },
  {
   "cell_type": "code",
   "execution_count": 46,
   "metadata": {},
   "outputs": [
    {
     "name": "stdout",
     "output_type": "stream",
     "text": [
      "[1, 4, 3, 2, 7, 3, 6, 3, 2, 4, 5, 3]\n",
      "[1, 4, 3, 2, 7, 3, 6, 3, 1, 4, 5, 3]\n"
     ]
    }
   ],
   "source": [
    "def mutacao(dominio, passo, solucao):\n",
    "    i = random.randint(0, len(dominio) - 1)\n",
    "    mutante = solucao\n",
    "    \n",
    "    if random.random() < 0.5:\n",
    "        if solucao[i] != dominio[i][0]:\n",
    "            mutante = solucao[0:i] + [solucao[i] - passo] + solucao[i + 1:]\n",
    "    else:\n",
    "        if solucao[i] != dominio[i][1]:\n",
    "            mutante = solucao[0:i] + [solucao[i] + passo] + solucao[i + 1:]\n",
    "    \n",
    "    return mutante\n",
    "\n",
    "#teste\n",
    "s = [1,4, 3,2, 7,3, 6,3, 2,4, 5,3]\n",
    "print (s)\n",
    "s1 = mutacao(dominio, 1, s)\n",
    "print (s1)"
   ]
  },
  {
   "cell_type": "code",
   "execution_count": 49,
   "metadata": {},
   "outputs": [
    {
     "name": "stdout",
     "output_type": "stream",
     "text": [
      "[1, 4, 3, 2, 7, 3, 6, 3, 2, 4, 5, 3] [0, 1, 2, 5, 8, 9, 2, 3, 5, 1, 0, 6]\n",
      "[1, 4, 3, 2, 7, 3, 6, 3, 2, 1, 0, 6]\n"
     ]
    }
   ],
   "source": [
    "def cruzamento(dominio, solucao1, solucao2):\n",
    "    i = random.randint(1, len(dominio) - 2)\n",
    "    return solucao1[0:i] + solucao2[i:]\n",
    "\n",
    "#teste\n",
    "s1 = [1,4, 3,2, 7,3, 6,3, 2,4, 5,3]\n",
    "s2 = [0,1, 2,5, 8,9, 2,3, 5,1, 0,6]\n",
    "print (s1,s2)\n",
    "s3 = cruzamento(dominio, s1, s2)\n",
    "print (s3)"
   ]
  },
  {
   "cell_type": "code",
   "execution_count": 50,
   "metadata": {},
   "outputs": [],
   "source": [
    "def genetico(dominio, funcao_custo, tamanho_populacao = 100, passo = 1,\n",
    "             probabilidade_mutacao = 0.2, elitismo = 0.2, numero_geracoes = 500):\n",
    "    \n",
    "    populacao = []\n",
    "    for i in range(tamanho_populacao):\n",
    "        solucao = [random.randint(dominio[i][0], dominio[i][1]) for i in range(len(dominio))]\n",
    "        populacao.append(solucao)\n",
    "    \n",
    "    numero_elitismo = int(elitismo * tamanho_populacao)\n",
    "    \n",
    "    for i in range(numero_geracoes):\n",
    "        custos = [(funcao_custo(individuo), individuo) for individuo in populacao]\n",
    "        custos.sort()\n",
    "        individuos_ordenados = [individuo for (custo, individuo) in custos]\n",
    "        \n",
    "        populacao = individuos_ordenados[0:numero_elitismo]\n",
    "        \n",
    "        while len(populacao) < tamanho_populacao:\n",
    "            if random.random() < probabilidade_mutacao:\n",
    "                m = random.randint(0, numero_elitismo)\n",
    "                populacao.append(mutacao(dominio, passo, individuos_ordenados[m]))\n",
    "            else:\n",
    "                c1 = random.randint(0, numero_elitismo)\n",
    "                c2 = random.randint(0, numero_elitismo)\n",
    "                populacao.append(cruzamento(dominio, individuos_ordenados[c1], \n",
    "                                            individuos_ordenados[c2]))\n",
    "                \n",
    "    return custos[0][1]\n"
   ]
  },
  {
   "cell_type": "code",
   "execution_count": 51,
   "metadata": {},
   "outputs": [
    {
     "name": "stdout",
     "output_type": "stream",
     "text": [
      "2677\n",
      "    Amanda       CWB 17:11-18:30 R$108 10:33-12:03 R$ 74\n",
      "     Pedro       GIG 13:54-18:02 R$294 10:51-14:16 R$256\n",
      "    Marcos       POA 17:08-19:08 R$262 10:32-13:16 R$139\n",
      "  Priscila       FLN 15:34-18:11 R$326 12:37-15:05 R$170\n",
      "   Jessica       CNF 15:58-18:40 R$173 10:33-13:11 R$132\n",
      "     Paulo       GYN 16:51-19:09 R$147 11:07-13:24 R$171\n"
     ]
    }
   ],
   "source": [
    "solucao_genetico = genetico(dominio, funcao_custo)\n",
    "custo_genetico = funcao_custo(solucao_genetico)\n",
    "print(custo_genetico)\n",
    "imprimir_agenda(solucao_genetico)"
   ]
  },
  {
   "cell_type": "markdown",
   "metadata": {},
   "source": [
    "# Comparação Resultados"
   ]
  },
  {
   "cell_type": "code",
   "execution_count": 59,
   "metadata": {},
   "outputs": [],
   "source": [
    "import time\n",
    "\n",
    "med_randomica = 0\n",
    "med_subida_encosta = 0\n",
    "med_tempera_simulada = 0\n",
    "med_genetico = 0\n",
    "\n",
    "men_randomica = 999999\n",
    "men_subida_encosta = 999999\n",
    "men_tempera_simulada = 999999\n",
    "men_genetico = 999999\n",
    "\n",
    "temp_randomica = 0\n",
    "temp_subida_encosta = 0\n",
    "temp_tempera_simulada = 0\n",
    "temp_genetico = 0\n",
    "\n",
    "for i in range(0,10):\n",
    "    \n",
    "    start = time.time()\n",
    "    solucao_randomica = funcao_custo(pesquisa_randomica(dominio, funcao_custo))\n",
    "    end = time.time()\n",
    "    if(solucao_randomica < men_randomica):\n",
    "        men_randomica = solucao_randomica\n",
    "    med_randomica += solucao_randomica\n",
    "    temp_randomica += end - start\n",
    "    \n",
    "    start = time.time()\n",
    "    solucao_subida_encosta = funcao_custo(subida_encosta(dominio, funcao_custo))\n",
    "    end = time.time()\n",
    "    if(solucao_subida_encosta < men_subida_encosta):\n",
    "        men_subida_encosta = solucao_subida_encosta\n",
    "    med_subida_encosta += solucao_subida_encosta\n",
    "    temp_subida_encosta += end - start\n",
    "    \n",
    "    start = time.time()\n",
    "    solucao_tempera_simulada = funcao_custo(tempera_simulada(dominio, funcao_custo))\n",
    "    end = time.time()\n",
    "    if(solucao_tempera_simulada < men_tempera_simulada):\n",
    "        men_tempera_simulada = solucao_tempera_simulada\n",
    "    med_tempera_simulada += solucao_tempera_simulada\n",
    "    temp_tempera_simulada += end - start\n",
    "    \n",
    "    start = time.time()\n",
    "    solucao_genetico = funcao_custo(genetico(dominio, funcao_custo))\n",
    "    end = time.time()\n",
    "    if(solucao_genetico < men_genetico):\n",
    "        men_genetico = solucao_genetico\n",
    "    med_genetico += solucao_genetico\n",
    "    temp_genetico += end - start\n",
    "    \n",
    "med_randomica /= 10\n",
    "med_subida_encosta /= 10\n",
    "med_tempera_simulada /= 10\n",
    "med_genetico /= 10\n",
    "\n",
    "temp_randomica /= 10\n",
    "temp_subida_encosta /= 10\n",
    "temp_tempera_simulada /= 10\n",
    "temp_genetico /= 10"
   ]
  },
  {
   "cell_type": "code",
   "execution_count": 61,
   "metadata": {},
   "outputs": [
    {
     "name": "stdout",
     "output_type": "stream",
     "text": [
      "                    Media_Resultados  Menor_Resultado  Tempo_Medio_Execução\n",
      "Pesquisa_Randomica            3702.1             3316              2.708344\n",
      "Subida_Encosta                4004.1             2844              0.091371\n",
      "Tempera_Simulada              4047.4             3089              0.116382\n",
      "Genético                      2776.1             2456             12.945615\n"
     ]
    }
   ],
   "source": [
    "import pandas as pd\n",
    "d = {'Media_Resultados': [med_randomica, med_subida_encosta, med_tempera_simulada, med_genetico], \n",
    "     'Menor_Resultado': [men_randomica, men_subida_encosta, men_tempera_simulada, men_genetico],\n",
    "     'Tempo_Medio_Execução':[temp_randomica, temp_subida_encosta, temp_tempera_simulada, temp_genetico]}\n",
    "Compara_Result = pd.DataFrame(data=d, index=['Pesquisa_Randomica', 'Subida_Encosta', 'Tempera_Simulada', 'Genético'])\n",
    "\n",
    "print(Compara_Result)"
   ]
  }
 ],
 "metadata": {
  "kernelspec": {
   "display_name": "Python 3",
   "language": "python",
   "name": "python3"
  },
  "language_info": {
   "codemirror_mode": {
    "name": "ipython",
    "version": 3
   },
   "file_extension": ".py",
   "mimetype": "text/x-python",
   "name": "python",
   "nbconvert_exporter": "python",
   "pygments_lexer": "ipython3",
   "version": "3.8.5"
  }
 },
 "nbformat": 4,
 "nbformat_minor": 4
}
